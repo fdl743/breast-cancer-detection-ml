{
 "cells": [
  {
   "cell_type": "markdown",
   "id": "e4ffd03e",
   "metadata": {},
   "source": [
    "## <center>**Détection du Cancer du Sein par Régression Logistique Implémentée from Scratch**</center>"
   ]
  },
  {
   "cell_type": "markdown",
   "id": "d49b873e",
   "metadata": {},
   "source": [
    "#### **Objectif:**\n",
    "Notre but est de concevoir un modèle de machine learning de classification capable de prédire si une tumeur est *bénigne* ou *maligne* à partir de mesures médicales.\\\n",
    "Contrairement à un modèle construit avec des packages préconçus, nous allons le développer à partir de zéro, en n'utilisant que les packages suivants : **NumPy**, **Matplotlib** et **Pandas**.\\\n",
    "Pour cela, nous utiliserons le jeu de données \"Breast Cancer\" disponible sur le site : https://archive.ics.uci.edu/dataset/17/breast+cancer+wisconsin+diagnostic."
   ]
  },
  {
   "cell_type": "markdown",
   "id": "18ff4865",
   "metadata": {},
   "source": [
    "#### **Conception du modèle :**"
   ]
  },
  {
   "cell_type": "code",
   "execution_count": 2,
   "id": "f85a4fb7",
   "metadata": {},
   "outputs": [],
   "source": [
    "import numpy as np\n",
    "import pandas as pd\n",
    "import matplotlib.pyplot as plt"
   ]
  },
  {
   "cell_type": "code",
   "execution_count": 3,
   "id": "bfd75f6e",
   "metadata": {},
   "outputs": [],
   "source": [
    "# Initialisation du modèle de régression logistique\n",
    "class LogisticRegressionModel:\n",
    "    def __init__(self, learning_rate=0.01, nbre_iterations=1000):\n",
    "        self.learning_rate = learning_rate\n",
    "        self.nbre_iterations = nbre_iterations\n",
    "        self.poids = None\n",
    "       \n",
    "\n",
    "    # Fonction d'activation sigmoïde\n",
    "    def sigmoïde(self, z):\n",
    "        return 1 / (1 + np.exp(-z))\n",
    "\n",
    "    # Entraînement du modèle\n",
    "    def entrainement(self, X, y):\n",
    "        X_lignes, X_colones = X.shape\n",
    "        self.poids = np.zeros(X_colones)\n",
    "\n",
    "        # Descente de gradient\n",
    "        for i in range(self.nbre_iterations):\n",
    "            # Prédictions\n",
    "            modèle_lineaire = np.dot(X, self.poids)\n",
    "            y_prédit = self.sigmoïde(modèle_lineaire)\n",
    "\n",
    "            # Calcul des gradients\n",
    "            dw = (1 / X_lignes) * np.dot(X.T, (y_prédit - y))\n",
    "            # Mise à jour des poids\n",
    "            self.poids -= self.learning_rate * dw\n",
    "           \n",
    "\n",
    "    # Prédiction\n",
    "    def prédiction(self, X):\n",
    "        modèle_lineaire = np.dot(X, self.poids) \n",
    "        y_prédit = self.sigmoïde(modèle_lineaire)\n",
    "        y_prédit_classe = [1 if i > 0.3 else 0 for i in y_prédit]\n",
    "        return np.array(y_prédit_classe)\n"
   ]
  },
  {
   "cell_type": "markdown",
   "id": "3025cd90",
   "metadata": {},
   "source": [
    "#### **Application de notre modèle créé sur nos données:**"
   ]
  },
  {
   "cell_type": "markdown",
   "id": "3c868396",
   "metadata": {},
   "source": [
    "**Importation des données**"
   ]
  },
  {
   "cell_type": "code",
   "execution_count": 4,
   "id": "39a85967",
   "metadata": {},
   "outputs": [],
   "source": [
    "from sklearn.datasets import load_breast_cancer\n",
    "data = load_breast_cancer()\n",
    "X = data[\"data\"]\n",
    "y = data[\"target\"]\n",
    "X_train = X[:455] \n",
    "y_train = y[:455]\n",
    "X_test = X[455:]\n",
    "y_test = y[455:]"
   ]
  },
  {
   "cell_type": "markdown",
   "id": "1a5fe504",
   "metadata": {},
   "source": [
    "**Normalisation de nos données**"
   ]
  },
  {
   "cell_type": "code",
   "execution_count": 5,
   "id": "d7fc6120",
   "metadata": {},
   "outputs": [],
   "source": [
    "# Fonction de normalisation de données\n",
    "def normalisation(X, epsilon=1e-8):\n",
    "    ecart_type = np.std(X, axis=0)\n",
    "    return (X - np.mean(X, axis=0)) / (ecart_type + epsilon)\n",
    "\n",
    "# Normalisation des données\n",
    "X_train = normalisation(X_train)\n",
    "X_test = normalisation(X_test)\n"
   ]
  },
  {
   "cell_type": "markdown",
   "id": "8c78c86e",
   "metadata": {},
   "source": [
    "**Entrainement du modèle**"
   ]
  },
  {
   "cell_type": "code",
   "execution_count": 6,
   "id": "f120c8e7",
   "metadata": {},
   "outputs": [],
   "source": [
    "# Initialisation et entraînement du modèle\n",
    "model = LogisticRegressionModel(learning_rate=0.001, nbre_iterations=10000)\n",
    "model.entrainement(X_train, y_train)"
   ]
  },
  {
   "cell_type": "markdown",
   "id": "1f40ce54",
   "metadata": {},
   "source": [
    "#### **Evaluation du modèle:**"
   ]
  },
  {
   "cell_type": "code",
   "execution_count": 7,
   "id": "1d0c698f",
   "metadata": {},
   "outputs": [
    {
     "name": "stdout",
     "output_type": "stream",
     "text": [
      "Accuracy: 0.98\n",
      "Précision: 0.99\n",
      "Rappel: 0.99\n",
      "Score F1: 0.99\n",
      "\n",
      "Matrice de confusion:\n",
      "               Prédit Negatif  Prédit Positif\n",
      "Réel Negatif              25               1\n",
      "Réel Positif               1              87\n"
     ]
    },
    {
     "data": {
      "image/png": "[encoded data removed]",
      "text/plain": [
       "<Figure size 480x480 with 1 Axes>"
      ]
     },
     "metadata": {},
     "output_type": "display_data"
    }
   ],
   "source": [
    "# Fonction pour calculer les métriques de performance\n",
    "def evaluation_modèle(y_1, y_2):\n",
    "    # Calcul de la matrice de confusion\n",
    "    Réel_positif = np.sum((y_1 == 1) & (y_2 == 1))\n",
    "    Réel_négatif = np.sum((y_1 == 0) & (y_2 == 0))\n",
    "    Faux_positif = np.sum((y_1 == 0) & (y_2 == 1))\n",
    "    Faux_négatif = np.sum((y_1 == 1) & (y_2 == 0))\n",
    "\n",
    "    # Calcul des métriques\n",
    "    accuracy = (Réel_positif + Réel_négatif) / (Réel_positif + Réel_négatif + Faux_positif + Faux_négatif)\n",
    "    précision = Réel_positif / (Réel_positif + Faux_positif) if (Réel_positif + Faux_positif) > 0 else 0\n",
    "    rappel = Réel_positif / (Réel_positif + Faux_négatif) if (Réel_positif + Faux_négatif) > 0 else 0\n",
    "    f1_score = 2 * (précision * rappel) / (précision + rappel) if (précision + rappel) > 0 else 0\n",
    "\n",
    "    # Affichage des résultats\n",
    "    print(f'Accuracy: {accuracy:.2f}')\n",
    "    print(f'Précision: {précision:.2f}')\n",
    "    print(f'Rappel: {rappel:.2f}')\n",
    "    print(f'Score F1: {f1_score:.2f}')\n",
    "    \n",
    "    # Affichage de la matrice de confusion\n",
    "    confusion_matrix = pd.DataFrame([[Réel_négatif, Faux_positif], [Faux_négatif, Réel_positif]], \n",
    "                                    index=[\"Réel Negatif\", \"Réel Positif\"], \n",
    "                                    columns=[\"Prédit Negatif\", \"Prédit Positif\"])\n",
    "    print(\"\\nMatrice de confusion:\\n\", confusion_matrix)\n",
    "\n",
    "    # Visualisation de la matrice de confusion\n",
    "    plt.matshow(confusion_matrix, cmap=\"Blues\", alpha=0.3)\n",
    "    for i in range(2):\n",
    "        for j in range(2):\n",
    "            plt.text(x=j, y=i, s=confusion_matrix.iloc[i, j], ha='center', va='center')\n",
    "    plt.xlabel(\"Prédictions\")\n",
    "    plt.ylabel(\"Réelles\")\n",
    "    plt.title(\"Matrice de Confusion\")\n",
    "    plt.show()\n",
    "\n",
    "# Utilisation de la fonction d'évaluation sur les données de validation\n",
    "y_prédit = model.prédiction(X_test)\n",
    "evaluation_modèle(y_test, y_prédit)\n"
   ]
  }
 ],
 "metadata": {
  "kernelspec": {
   "display_name": "base",
   "language": "python",
   "name": "python3"
  },
  "language_info": {
   "codemirror_mode": {
    "name": "ipython",
    "version": 3
   },
   "file_extension": ".py",
   "mimetype": "text/x-python",
   "name": "python",
   "nbconvert_exporter": "python",
   "pygments_lexer": "ipython3",
   "version": "3.12.4"
  }
 },
 "nbformat": 4,
 "nbformat_minor": 5
}
